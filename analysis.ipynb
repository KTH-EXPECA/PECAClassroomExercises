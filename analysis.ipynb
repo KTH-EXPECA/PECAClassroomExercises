{
 "cells": [
  {
   "cell_type": "code",
   "execution_count": 1,
   "metadata": {
    "collapsed": true
   },
   "outputs": [],
   "source": [
    "from pathlib import Path\n",
    "\n",
    "import matplotlib.pyplot as plt\n",
    "import numpy as np\n",
    "import pandas as pd\n",
    "import seaborn as sns\n",
    "\n",
    "data_dir = Path('./experiments')\n",
    "experiment_duration_seconds = 30\n",
    "tick_rate = 120\n",
    "\n",
    "sns.set_style('whitegrid')\n",
    "# sns.set_context('paper')\n",
    "sns.set_theme('notebook', style='whitegrid', palette='Set1', font_scale=1)"
   ]
  },
  {
   "cell_type": "code",
   "execution_count": 2,
   "outputs": [],
   "source": [
    "# process and plot\n",
    "for p in data_dir.iterdir():\n",
    "    if p.is_dir():\n",
    "        experiment_name = p.name\n",
    "        print(f'=============================')\n",
    "        print(f'Experiment: {experiment_name}')\n",
    "        print(f'=============================')\n",
    "\n",
    "        net_data = pd.read_csv(next(p.glob('udpclient.*.csv')))\n",
    "\n",
    "        # plot the rtt distribution\n",
    "        # first, we need to fix the rtts a bit\n",
    "        # dropped packets are marked as having RTT = inf\n",
    "        # this doesn't work when plotting distributions,\n",
    "        # so we are going to use a little trick and mark\n",
    "        # infinites as equal to the total duration of the\n",
    "        # experiment, in seconds\n",
    "\n",
    "        net_data_fixed = net_data.copy()\n",
    "        net_data_fixed['rtt'] = net_data['rtt'].replace(np.inf, experiment_duration_seconds)\n",
    "\n",
    "        fg = sns.displot(\n",
    "            kind='ecdf',\n",
    "            data=net_data_fixed,\n",
    "            x='rtt',\n",
    "        )\n",
    "        fg.set_xlabels('Round-Trip Time [s]')\n",
    "        fg.set(xscale='log',\n",
    "               xlim=(None, experiment_duration_seconds))\n",
    "\n",
    "        plt.show()\n",
    "\n",
    "        # next, analyze stability of the system\n",
    "        # load plant physical data\n",
    "\n",
    "        plant_data = pd.read_csv(next(p.glob('simulation.*.csv')))\n",
    "\n",
    "        # <emulation_rate> samples equals a second\n",
    "        plant_data['time'] = plant_data['tick'] / tick_rate\n",
    "\n",
    "        fg = sns.relplot(\n",
    "            kind='line',\n",
    "            data=plant_data,\n",
    "            x='time',\n",
    "            y='output_angle'\n",
    "        )\n",
    "        fg.set_xlabels('Time [s]')\n",
    "        fg.set_ylabels('Pendulum Angle [rad]')\n",
    "        # fg.set(yticks=[-2 * np.pi, -np.pi, 0, np.pi, 2 * np.pi], ylim=(-2 * np.pi, 2 * np.pi))\n",
    "\n",
    "        for ax in fg.axes.flat:\n",
    "            ax.yaxis.set_major_formatter(lambda x, p: f'{x / np.pi:0.04f}π')\n",
    "\n",
    "        plt.show()\n",
    "\n",
    "        fg = sns.relplot(\n",
    "            kind='line',\n",
    "            data=plant_data,\n",
    "            x='time',\n",
    "            y='output_position'\n",
    "        )\n",
    "        fg.set_xlabels('Time [s]')\n",
    "        fg.set_ylabels('Cart position')\n",
    "        plt.show()\n"
   ],
   "metadata": {
    "collapsed": false,
    "pycharm": {
     "name": "#%%\n"
    }
   }
  }
 ],
 "metadata": {
  "kernelspec": {
   "display_name": "Python 3",
   "language": "python",
   "name": "python3"
  },
  "language_info": {
   "codemirror_mode": {
    "name": "ipython",
    "version": 2
   },
   "file_extension": ".py",
   "mimetype": "text/x-python",
   "name": "python",
   "nbconvert_exporter": "python",
   "pygments_lexer": "ipython2",
   "version": "2.7.6"
  }
 },
 "nbformat": 4,
 "nbformat_minor": 0
}